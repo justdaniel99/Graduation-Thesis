{
 "cells": [
  {
   "cell_type": "code",
   "execution_count": 18,
   "metadata": {},
   "outputs": [],
   "source": [
    "#libraries\n",
    "import numpy as np\n",
    "import sympy as sp\n",
    "import scipy as sc\n",
    "from numpy import linalg \n",
    "from scipy.integrate import dblquad\n",
    "from scipy.integrate import quad\n",
    "from scipy.misc import derivative\n",
    "import matplotlib.pyplot as plt"
   ]
  },
  {
   "cell_type": "markdown",
   "metadata": {},
   "source": [
    "Prescribed functions and constants, direct and inverse problem accurate solutions: $$u(x,t)=e^x t^3, q(x)=1, \\varepsilon=1, a=1, x_0=0, T=1, f(x)=e^x, g(t)=6t-2t^3$$"
   ]
  },
  {
   "cell_type": "code",
   "execution_count": 19,
   "metadata": {},
   "outputs": [],
   "source": [
    "#defined variables and functions\n",
    "eps = 1\n",
    "a = 1\n",
    "x0 = 0\n",
    "T = 1\n",
    "\n",
    "def q(x):\n",
    "    return 1\n",
    "def u(x,t):\n",
    "    return np.exp(x) * t**3\n",
    "def p(t):\n",
    "    return u(x0, t)\n",
    "def f(x):\n",
    "    return np.exp(x)\n",
    "def g(t):\n",
    "    return t * (6 - 2 * t**2)"
   ]
  },
  {
   "cell_type": "markdown",
   "metadata": {},
   "source": [
    "Initial approximation: $$u_0(x, t)=e^x t^2, g_0(t)=6-2t^2$$"
   ]
  },
  {
   "cell_type": "code",
   "execution_count": 20,
   "metadata": {},
   "outputs": [],
   "source": [
    "#initial approximation\n",
    "def u0(x, t):\n",
    "    return np.exp(x) * t**2\n",
    "def g0(t):\n",
    "    return 6 - 2 * t**2"
   ]
  },
  {
   "cell_type": "code",
   "execution_count": 21,
   "metadata": {},
   "outputs": [],
   "source": [
    "#Time and space grid size\n",
    "M = 30\n",
    "h = T/M"
   ]
  },
  {
   "cell_type": "markdown",
   "metadata": {},
   "source": [
    "------------------------------------------------------------------------------------------------------------------------------------------------------------------------------------------------------------------\n",
    "In case of $a=1$ and $x_0=0$: $U(x,t)=\\int_0^t \\int_{x-(t-\\tau)}^{x+(t-\\tau)} F(s,\\tau)dsd\\tau$\n",
    "\n",
    "$\\Delta_T = \\{(t,x): 0\\leq t \\leq T, -T=t\\leq x \\leq T-t\\}$\n",
    "\n",
    "Grid step: $h$ (both space-wise and timing-wise)\n",
    "\n",
    "$t_j=jh;\\ j = 0, ..., M;\\ t_M = T$\n",
    "\n",
    "$x_k = kh;\\ k=-M, -(M-1), ..., -1, 0, 1, ..., M-1, M$\n",
    "\n",
    "Grid analogue -  $(t_j, x_k): 0=t_0\\leq t_j \\leq t_m = T,\\ j = 0, ..., M; \\ -T+t_j=-t_m+t_j \\leq x_k \\leq t_m - t_j = T - t_j;\\ k=-M, -(M-1), ..., -1, 0, 1, ..., M-1, M.$\n",
    "\n",
    "Consequently, in $(x_k, t_j)$ fix point: $U(x_k,t_j)=\\int_0^{t_j} \\int_{x_k-(t_j-\\tau)}^{x_k+(t_j-\\tau)} F(s,\\tau)dsd\\tau$\n",
    "\n",
    "Quadrature formula of lower Riemann sum:$\\ U_{ap}(x_k, t_j) = \\sum_{m=0}^{j-1} h \\sum_{n=-j+m}^{j-m}hF(x_k+nh, t_m)$"
   ]
  },
  {
   "cell_type": "code",
   "execution_count": 22,
   "metadata": {},
   "outputs": [],
   "source": [
    "#double integral calculation with quadrature formula of lower Riemann sum\n",
    "def DoubleIntegral(F):\n",
    "    Sum = np.zeros((2 * M + 1, M + 1))\n",
    "\n",
    "    for j in range(1, M + 1):\n",
    "        for k in range(-M, M + 1):\n",
    "            for m in range(j):\n",
    "                for n in range(-j + m, j - m + 1):\n",
    "                    if k + M + n <= 2 * M and k + M + n >= 0:\n",
    "                        Sum[k + M][j] += h * h * F[k + n + M][m]\n",
    "    return Sum"
   ]
  },
  {
   "cell_type": "markdown",
   "metadata": {},
   "source": [
    "$$u_{n+1}(x,t)=\\frac{1}{2a}\\int_0^t\\int_{x-a(t-\\tau)}^{x+a(t-\\tau)}\\varepsilon q(s)u_n(s,\\tau)dsd\\tau+\\frac{1}{2a}\\int_0^t\\int_{x-a(t-\\tau)}^{x+a(t-\\tau)}f(s)g_n(\\tau)dsd\\tau$$\n"
   ]
  },
  {
   "cell_type": "code",
   "execution_count": 23,
   "metadata": {},
   "outputs": [],
   "source": [
    "# u_n+1 calculating\n",
    "U0 = np.zeros((2 * M + 1, M + 1))\n",
    "derU0 = np.zeros((2 * M + 1, M + 1))\n",
    "Q = np.zeros((2 * M + 1))\n",
    "derQ = np.zeros((2 * M + 1))\n",
    "F = np.zeros((2 * M + 1))\n",
    "derF = np.zeros((2 * M + 1))\n",
    "G0 = np.zeros((M + 1))\n",
    "derderP = np.zeros((M + 1))\n",
    "P = np.zeros((M + 1))\n",
    "\n",
    "for j in range(0, M + 1):\n",
    "    G0[j] = g0(j * h)\n",
    "    P[j] = p(j * h)\n",
    "    derderP[j] = derivative(p, j * h, dx = 1.0, n = 2)\n",
    "    for k in range(-M, M + 1):\n",
    "        U0[k + M][j] = u0(k * h, j * h)\n",
    "        derU0[k + M][j] = u0(k * h, j * h)\n",
    "\n",
    "for k in range(-M, M + 1):\n",
    "    Q[k + M] = q(k * h)\n",
    "    derQ[k + M] = derivative(q, k * h)\n",
    "    F[k + M] = f(k * h)\n",
    "    derF[k + M] = derivative(f, k * h)\n",
    "\n",
    "def part1(un, eps, a, Q):\n",
    "    Sum = np.zeros((2 * M + 1, M + 1))\n",
    "    for j in range(0, M + 1): #\n",
    "        for k in range(-M, M + 1):\n",
    "            Sum[k + M][j] += eps / (2 * a) * Q[k + M] * un[k + M][j]\n",
    "    return Sum\n",
    "\n",
    "def part2(gn, a, F):\n",
    "    Sum = np.zeros((2 * M + 1, M + 1))\n",
    "    for j in range(0, M + 1): #\n",
    "        for k in range(-M, M + 1):\n",
    "            Sum[k + M][j] += 1 / (2 * a) * F[k + M] * gn[j]\n",
    "    return Sum\n",
    "\n",
    "unplus1 = np.sum([DoubleIntegral(part1(U0, eps, a, Q)), DoubleIntegral(part2(G0, a, F))], axis = 0)"
   ]
  },
  {
   "cell_type": "markdown",
   "metadata": {},
   "source": [
    "------------------------------------------------------------------------------------------------------------------------------------------------------------------------------------------------------------------\n",
    "In case of $a=1$ and $x_0=0$: $U(t)=\\int_0^t F(\\tau)d\\tau$\n",
    "\n",
    "$\\Delta_T = \\{t: 0\\leq t \\leq T\\}$\n",
    "\n",
    "Grid step: $h$\n",
    "\n",
    "$t_j=jh;\\ j = 0, ..., M;\\ t_M = T$\n",
    "\n",
    "Grid analogue -  $t_j: 0=t_0\\leq t_j \\leq t_m = T,\\ j = 0, ..., M;$\n",
    "\n",
    "Consequently, in $t_j$ fix point: $U(t_j)=\\int_0^{t_j} F(\\tau)d\\tau$\n",
    "\n",
    "Quadrature formula of lower Riemann sum:$\\ U_{ap}(t_j) = \\sum_{m=0}^{j-1} h F(t_m)$"
   ]
  },
  {
   "cell_type": "code",
   "execution_count": 24,
   "metadata": {},
   "outputs": [],
   "source": [
    "#integral calculation with quadrature formula of lower Riemann sum\n",
    "def SpecialIntegralPlus(F):\n",
    "    Sum = np.zeros((2 * M + 1, M + 1))\n",
    "    for j in range(1, M + 1):\n",
    "        for k in range(-M, M + 1):\n",
    "            for m in range(j):\n",
    "                if k + j - m + M <= 2 * M and k + j - m + M >= 0:\n",
    "                    Sum[k + M][j] += h * F[k + j - m + M][m]\n",
    "    return Sum\n",
    "\n",
    "def SpecialIntegralMinus(F):\n",
    "    Sum = np.zeros((2 * M + 1, M + 1))\n",
    "    for j in range(1, M + 1):\n",
    "        for k in range(-M, M + 1):\n",
    "            for m in range(j):\n",
    "                if k - j + m + M <= 2 * M and k - j + m + M >= 0:\n",
    "                    Sum[k + M][j] += h * F[k - j + m + M][m]\n",
    "    return Sum"
   ]
  },
  {
   "cell_type": "markdown",
   "metadata": {},
   "source": [
    "$$\\frac{\\partial u_{n+1}}{\\partial x}(x,t)=\\frac{\\varepsilon}{2a}\\int_0^t[q(x+a(t-\\tau))u_n(x+a(t-\\tau),\\tau)-q(x-a(t-\\tau))u_n(x-a(t-\\tau),\\tau)]d\\tau+\\frac{1}{2a}*\\int_0^t g_n(\\tau)[f(x+a(t-\\tau))-f(x-a(t-\\tau))]d\\tau$$"
   ]
  },
  {
   "cell_type": "code",
   "execution_count": 25,
   "metadata": {},
   "outputs": [],
   "source": [
    "# u_n+1 derivative with respect to x calculation\n",
    "der1 = np.sum([SpecialIntegralPlus(part1(U0, eps, a, Q)), (-1) * SpecialIntegralMinus(part1(U0, eps, a, Q))], axis = 0)\n",
    "der2 = np.sum([SpecialIntegralPlus(part2(G0, a, F)), (-1) * SpecialIntegralMinus(part2(G0, a, F))], axis = 0)\n",
    "derunplus1 = np.sum([der1, der2], axis = 0)"
   ]
  },
  {
   "cell_type": "code",
   "execution_count": 26,
   "metadata": {},
   "outputs": [],
   "source": [
    "# integral calculation for g_n+1\n",
    "def LastIntegralPlus(F):\n",
    "    Sum = np.zeros((2 * M + 1, M + 1))\n",
    "    for j in range(1, M + 1): \n",
    "        for m in range(j):\n",
    "            if j - m + M <= 2 * M and j - m + M >= 0:\n",
    "                Sum[M][j] += h * F[j - m + M][m]\n",
    "    return Sum\n",
    "\n",
    "def LastIntegralMinus(F):\n",
    "    Sum = np.zeros((2 * M + 1, M + 1))\n",
    "    for j in range(1, M + 1): \n",
    "        for m in range(j):\n",
    "            if -j + m + M <= 2 * M and -j + m + M >= 0:\n",
    "                Sum[M][j] += h * F[-j + m + M][m]\n",
    "    return Sum"
   ]
  },
  {
   "cell_type": "markdown",
   "metadata": {},
   "source": [
    "$$g_{n+1}(t)=-\\frac{a\\varepsilon}{2f(x_0)}\\int_0^t [q^{'}(x_0+a(t-\\tau))u_{n+1}(x_0+a(t-\\tau),\\tau)+q(x_0+a(t-\\tau))\\frac{\\partial u_{n+1}}{\\partial x}(x_0+a(t-\\tau),\\tau)- q^{'}(x_0-a(t-\\tau))u_{n+1}(x_0-a(t-\\tau),\\tau)-q(x_0-a(t-\\tau))\\frac{\\partial u_{n+1}}{\\partial x}(x_0-a(t-\\tau),\\tau)]d\\tau-\\frac{a}{2f(x_0)}*\\int_0^t g_n(\\tau)[f^{'}(x_0+a(t-\\tau))-f^{'}(x_0-a(t-\\tau))]d\\tau + \\frac{p^{''}(t)}{f(x_0)}-\\frac{\\varepsilon q(x_0)p(t)}{f(x_0)}$$"
   ]
  },
  {
   "cell_type": "code",
   "execution_count": 27,
   "metadata": {},
   "outputs": [],
   "source": [
    "# required functions for g_n+1 calculation\n",
    "def first(a, eps, f, x0, derQ, U1, Q, derU1):\n",
    "#def first(a, eps, f, x0, derQ, U0, Q, derU0):\n",
    "    Sum = np.zeros((2 * M + 1, M + 1))\n",
    "    for j in range(0, M + 1): #\n",
    "        for k in range(-M, M + 1):\n",
    "            Sum[k + M][j] += (-1) * a * eps / (2 * f(x0)) * (derQ[k + M] * U1[k + M][j] + Q[k + M] * derU1[k + M][j])\n",
    "            #Sum[k + M][j] += (-1) * a * eps / (2 * f(x0)) * (derQ[k + M] * U0[k + M][j] + Q[k + M] * derU0[k + M][j])\n",
    "    return Sum\n",
    "\n",
    "def second(a, f, x0, G0, derF):\n",
    "    Sum = np.zeros((2 * M + 1, M + 1))\n",
    "    for j in range(0, M + 1): #\n",
    "        for k in range(-M, M + 1):\n",
    "            Sum[k + M][j] += (-1) * a / (2 * f(x0)) * G0[j] * derF[k + M]\n",
    "    return Sum \n",
    "\n",
    "def third(derderP, f, x0, eps, q, U1, P):\n",
    "    Sum = np.zeros((2 * M + 1, M + 1))\n",
    "    for j in range(0, M + 1):\n",
    "        for k in range(-M, M + 1):\n",
    "            Sum[k + M][j] += derderP[j] / f(x0) - eps * q(x0) * U1[x0 + M][j] / f(x0)\n",
    "            #Sum[k + M][j] += derderP[j] / f(x0) - eps * q(x0) * P[j] / f(x0)\n",
    "    return Sum "
   ]
  },
  {
   "cell_type": "code",
   "execution_count": 28,
   "metadata": {},
   "outputs": [],
   "source": [
    "# g_n+1 calculation\n",
    "def Gnplus1(unplus1, derunplus1, G0):\n",
    "    Sum = np.zeros((M+1))\n",
    "    for j in range (0, M + 1):\n",
    "        Sum[j] += LastIntegralPlus(first(a, eps, f, x0, derQ, unplus1, Q, derunplus1))[x0 + M][j] + LastIntegralMinus((-1) * first(a, eps, f, x0, derQ, unplus1, Q, derunplus1))[x0 + M][j]\n",
    "        Sum[j] += LastIntegralPlus(second(a, f, x0, G0, derF))[x0 + M][j] + LastIntegralMinus((-1) * second(a, f, x0, G0, derF))[x0 + M][j]\n",
    "        Sum[j] += third(derderP, f, x0, eps, q, unplus1, P)[x0 + M][j]\n",
    "    return Sum\n",
    "gnplus11 = Gnplus1(unplus1, derunplus1, G0);\n",
    "#gnplus11 = Gnplus1(U0, derU0, G0);"
   ]
  },
  {
   "cell_type": "code",
   "execution_count": 29,
   "metadata": {},
   "outputs": [],
   "source": [
    "#iteration process, where i is iteration number\n",
    "UN = U0\n",
    "derUN=derU0\n",
    "GN = G0\n",
    "for i in range(2):\n",
    "    unplus1 = np.sum([DoubleIntegral(part1(UN, eps, a, Q)), DoubleIntegral(part2(GN, a, F))], axis = 0)\n",
    "    der1 = np.sum([SpecialIntegralPlus(part1(UN, eps, a, Q)), (-1) * SpecialIntegralMinus(part1(UN, eps, a, Q))], axis = 0)\n",
    "    der2 = np.sum([SpecialIntegralPlus(part2(GN, a, F)), (-1) * SpecialIntegralMinus(part2(GN, a, F))], axis = 0)\n",
    "    derunplus1 = np.sum([der1, der2], axis = 0)\n",
    "    gnplus1 = Gnplus1(unplus1, derunplus1, GN);\n",
    "    #gnplus1 = Gnplus1(UN, derUN, GN);\n",
    "    UN = unplus1\n",
    "    derUN = derunplus1\n",
    "    GN = gnplus1\n",
    "    gnplus12 = gnplus1"
   ]
  },
  {
   "cell_type": "code",
   "execution_count": 30,
   "metadata": {},
   "outputs": [],
   "source": [
    "#iteration process, where i is iteration number\n",
    "UN = U0\n",
    "GN = G0\n",
    "for i in range(10):\n",
    "    unplus1 = np.sum([DoubleIntegral(part1(UN, eps, a, Q)), DoubleIntegral(part2(GN, a, F))], axis = 0)\n",
    "    der1 = np.sum([SpecialIntegralPlus(part1(UN, eps, a, Q)), (-1) * SpecialIntegralMinus(part1(UN, eps, a, Q))], axis = 0)\n",
    "    der2 = np.sum([SpecialIntegralPlus(part2(GN, a, F)), (-1) * SpecialIntegralMinus(part2(GN, a, F))], axis = 0)\n",
    "    derunplus1 = np.sum([der1, der2], axis = 0)\n",
    "    gnplus1 = Gnplus1(unplus1, derunplus1, GN);\n",
    "    #gnplus1 = Gnplus1(UN, derUN, GN);\n",
    "    UN = unplus1\n",
    "    derUN = derunplus1\n",
    "    GN = gnplus1\n",
    "    gnplus110 = gnplus1"
   ]
  },
  {
   "cell_type": "code",
   "execution_count": 31,
   "metadata": {},
   "outputs": [],
   "source": [
    "#iteration process, where i is iteration number\n",
    "UN = U0\n",
    "GN = G0\n",
    "for i in range(9):\n",
    "    unplus1 = np.sum([DoubleIntegral(part1(UN, eps, a, Q)), DoubleIntegral(part2(GN, a, F))], axis = 0)\n",
    "    der1 = np.sum([SpecialIntegralPlus(part1(UN, eps, a, Q)), (-1) * SpecialIntegralMinus(part1(UN, eps, a, Q))], axis = 0)\n",
    "    der2 = np.sum([SpecialIntegralPlus(part2(GN, a, F)), (-1) * SpecialIntegralMinus(part2(GN, a, F))], axis = 0)\n",
    "    derunplus1 = np.sum([der1, der2], axis = 0)\n",
    "    gnplus1 = Gnplus1(unplus1, derunplus1, GN);\n",
    "    UN = unplus1\n",
    "    GN = gnplus1\n",
    "    gnplus9 = gnplus1"
   ]
  },
  {
   "cell_type": "code",
   "execution_count": 32,
   "metadata": {},
   "outputs": [
    {
     "data": {
      "image/png": "[encoded data removed]",
      "text/plain": [
       "<Figure size 720x576 with 1 Axes>"
      ]
     },
     "metadata": {
      "needs_background": "light"
     },
     "output_type": "display_data"
    }
   ],
   "source": [
    "#graphing\n",
    "Time = []\n",
    "RealG = []\n",
    "First = []\n",
    "\n",
    "for i in range(M+1):\n",
    "    Time.append(i * h)\n",
    "    RealG.append(g(i * h))\n",
    "    First.append(g0(i * h))\n",
    "    \n",
    "    \n",
    "plt.rcParams['figure.figsize'] = [10, 8]\n",
    "plt.plot(Time, RealG, color='0.7', label = \"g(t)\", linewidth = 3, alpha = 0.8)\n",
    "plt.plot(Time, First, '*', color = '0.5', label = \"g_0(t)\", linewidth = 3)\n",
    "plt.plot(Time, gnplus11, '^', color = '0.5', label = \"g_1(t)\", linewidth = 3, alpha = 0.9)\n",
    "plt.plot(Time, gnplus12, 's', color = '0.3', label = \"g_2(t)\", linewidth = 3, alpha = 0.9)\n",
    "plt.plot(Time, gnplus110, 'bo', color = '0', label = \"g_15(t)\", linewidth = 3, alpha = 0.9)\n",
    "plt.xlabel(\"t\")\n",
    "plt.ylabel(\"g(t)\")\n",
    "plt.legend(bbox_to_anchor = (0.75, 0.4), bbox_transform = plt.gcf().transFigure)\n",
    "plt.grid()\n",
    "plt.show()"
   ]
  },
  {
   "cell_type": "code",
   "execution_count": 33,
   "metadata": {},
   "outputs": [
    {
     "data": {
      "image/png": "[encoded data removed]",
      "text/plain": [
       "<Figure size 720x576 with 1 Axes>"
      ]
     },
     "metadata": {
      "needs_background": "light"
     },
     "output_type": "display_data"
    }
   ],
   "source": [
    "difference = []\n",
    "for i in range(M + 1):\n",
    "    difference.append(np.abs(RealG[i] - gnplus110[i]))\n",
    "\n",
    "plt.rcParams['figure.figsize'] = [10, 8]\n",
    "plt.plot(Time, difference, 'bo', color = 'blue')\n",
    "plt.xlabel(\"t\")\n",
    "plt.ylabel(\"Difference between real and approximate g(t) values\")\n",
    "plt.grid()\n",
    "plt.show()"
   ]
  },
  {
   "cell_type": "code",
   "execution_count": null,
   "metadata": {},
   "outputs": [],
   "source": []
  },
  {
   "cell_type": "code",
   "execution_count": null,
   "metadata": {},
   "outputs": [],
   "source": []
  },
  {
   "cell_type": "code",
   "execution_count": null,
   "metadata": {},
   "outputs": [],
   "source": []
  },
  {
   "cell_type": "code",
   "execution_count": null,
   "metadata": {},
   "outputs": [],
   "source": []
  },
  {
   "cell_type": "code",
   "execution_count": null,
   "metadata": {},
   "outputs": [],
   "source": []
  },
  {
   "cell_type": "code",
   "execution_count": null,
   "metadata": {},
   "outputs": [],
   "source": []
  },
  {
   "cell_type": "code",
   "execution_count": 7,
   "metadata": {},
   "outputs": [],
   "source": []
  }
 ],
 "metadata": {
  "kernelspec": {
   "display_name": "Python 3",
   "language": "python",
   "name": "python3"
  },
  "language_info": {
   "codemirror_mode": {
    "name": "ipython",
    "version": 3
   },
   "file_extension": ".py",
   "mimetype": "text/x-python",
   "name": "python",
   "nbconvert_exporter": "python",
   "pygments_lexer": "ipython3",
   "version": "3.8.3"
  }
 },
 "nbformat": 4,
 "nbformat_minor": 4
}
